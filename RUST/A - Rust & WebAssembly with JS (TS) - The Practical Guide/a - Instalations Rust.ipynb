{
 "cells": [
  {
   "cell_type": "markdown",
   "metadata": {},
   "source": [
    "### Instalations Rust"
   ]
  },
  {
   "cell_type": "markdown",
   "metadata": {},
   "source": [
    "Just go to rustup.rs and follow the instructions."
   ]
  },
  {
   "cell_type": "markdown",
   "metadata": {},
   "source": [
    "Then ```rustup update```"
   ]
  },
  {
   "cell_type": "markdown",
   "metadata": {
    "vscode": {
     "languageId": "rust"
    }
   },
   "source": [
    "Then check ther version with ```rustc --version```\n"
   ]
  },
  {
   "cell_type": "markdown",
   "metadata": {},
   "source": [
    "---"
   ]
  },
  {
   "cell_type": "markdown",
   "metadata": {},
   "source": [
    "##### If you want to use Rust in Jupyter Notebook, you can use the Rust kernel.\n",
    "\n",
    "How to install the Rust kernel in Jupyter Notebook:\n",
    "\n",
    "```bash\n",
    "cargo install --locked evcxr_jupyter\n",
    "```\n",
    "\n",
    "Then :\n",
    "\n",
    "```bash\n",
    "evcxr --install\n",
    "```\n"
   ]
  },
  {
   "cell_type": "markdown",
   "metadata": {},
   "source": [
    "# Pourquoi Rust ?\n",
    "\n",
    "- **Fast** (similaire à CPP)\n",
    "-  Safe\n",
    "- Optimized, on peut optim la mémoire sur laquelle on travaille\n",
    "- Performance\n",
    "\n",
    "\n",
    "$\\to$ Rust est un language **Haut Niveau** MAIS avec lequel on peut **opérer sur des *low level instruction**"
   ]
  },
  {
   "cell_type": "markdown",
   "metadata": {},
   "source": [
    "Rust est un language qui peut **être compiler en *Web Assembly**\n",
    "\n"
   ]
  }
 ],
 "metadata": {
  "kernelspec": {
   "display_name": "Rust",
   "language": "rust",
   "name": "rust"
  },
  "language_info": {
   "codemirror_mode": "rust",
   "file_extension": ".rs",
   "mimetype": "text/rust",
   "name": "Rust",
   "pygment_lexer": "rust",
   "version": ""
  }
 },
 "nbformat": 4,
 "nbformat_minor": 2
}
